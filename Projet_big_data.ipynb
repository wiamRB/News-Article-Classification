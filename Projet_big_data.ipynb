{
 "cells": [
  {
   "cell_type": "code",
   "execution_count": null,
   "metadata": {
    "id": "Q551607RzlP8"
   },
   "outputs": [],
   "source": [
    "!pip install -q pyspark==3.3.0 spark-nlp==4.2.0"
   ]
  },
  {
   "cell_type": "code",
   "execution_count": null,
   "metadata": {
    "id": "TjzZ_atpzirW"
   },
   "outputs": [],
   "source": [
    "import sparknlp\n",
    "spark = sparknlp.start(gpu=True) \n",
    "sparknlp.start(gpu=True)\n",
    "from sparknlp.base import *\n",
    "from sparknlp.annotator import *\n",
    "from pyspark.ml import Pipeline\n",
    "import pandas as pd\n",
    "print(\"Spark NLP version\", sparknlp.version())\n",
    "print(\"Apache Spark version:\", spark.version)"
   ]
  },
  {
   "cell_type": "code",
   "execution_count": null,
   "metadata": {
    "colab": {
     "base_uri": "https://localhost:8080/",
     "height": 262
    },
    "id": "caKWdLncUtTN",
    "outputId": "ecabd431-e6a9-482c-97ce-ca38e93e5473"
   },
   "outputs": [
    {
     "data": {
      "text/html": [
       "\n",
       "     <input type=\"file\" id=\"files-98e007c4-fac0-47b9-bf3b-325d79a37ee6\" name=\"files[]\" multiple disabled\n",
       "        style=\"border:none\" />\n",
       "     <output id=\"result-98e007c4-fac0-47b9-bf3b-325d79a37ee6\">\n",
       "      Upload widget is only available when the cell has been executed in the\n",
       "      current browser session. Please rerun this cell to enable.\n",
       "      </output>\n",
       "      <script>// Copyright 2017 Google LLC\n",
       "//\n",
       "// Licensed under the Apache License, Version 2.0 (the \"License\");\n",
       "// you may not use this file except in compliance with the License.\n",
       "// You may obtain a copy of the License at\n",
       "//\n",
       "//      http://www.apache.org/licenses/LICENSE-2.0\n",
       "//\n",
       "// Unless required by applicable law or agreed to in writing, software\n",
       "// distributed under the License is distributed on an \"AS IS\" BASIS,\n",
       "// WITHOUT WARRANTIES OR CONDITIONS OF ANY KIND, either express or implied.\n",
       "// See the License for the specific language governing permissions and\n",
       "// limitations under the License.\n",
       "\n",
       "/**\n",
       " * @fileoverview Helpers for google.colab Python module.\n",
       " */\n",
       "(function(scope) {\n",
       "function span(text, styleAttributes = {}) {\n",
       "  const element = document.createElement('span');\n",
       "  element.textContent = text;\n",
       "  for (const key of Object.keys(styleAttributes)) {\n",
       "    element.style[key] = styleAttributes[key];\n",
       "  }\n",
       "  return element;\n",
       "}\n",
       "\n",
       "// Max number of bytes which will be uploaded at a time.\n",
       "const MAX_PAYLOAD_SIZE = 100 * 1024;\n",
       "\n",
       "function _uploadFiles(inputId, outputId) {\n",
       "  const steps = uploadFilesStep(inputId, outputId);\n",
       "  const outputElement = document.getElementById(outputId);\n",
       "  // Cache steps on the outputElement to make it available for the next call\n",
       "  // to uploadFilesContinue from Python.\n",
       "  outputElement.steps = steps;\n",
       "\n",
       "  return _uploadFilesContinue(outputId);\n",
       "}\n",
       "\n",
       "// This is roughly an async generator (not supported in the browser yet),\n",
       "// where there are multiple asynchronous steps and the Python side is going\n",
       "// to poll for completion of each step.\n",
       "// This uses a Promise to block the python side on completion of each step,\n",
       "// then passes the result of the previous step as the input to the next step.\n",
       "function _uploadFilesContinue(outputId) {\n",
       "  const outputElement = document.getElementById(outputId);\n",
       "  const steps = outputElement.steps;\n",
       "\n",
       "  const next = steps.next(outputElement.lastPromiseValue);\n",
       "  return Promise.resolve(next.value.promise).then((value) => {\n",
       "    // Cache the last promise value to make it available to the next\n",
       "    // step of the generator.\n",
       "    outputElement.lastPromiseValue = value;\n",
       "    return next.value.response;\n",
       "  });\n",
       "}\n",
       "\n",
       "/**\n",
       " * Generator function which is called between each async step of the upload\n",
       " * process.\n",
       " * @param {string} inputId Element ID of the input file picker element.\n",
       " * @param {string} outputId Element ID of the output display.\n",
       " * @return {!Iterable<!Object>} Iterable of next steps.\n",
       " */\n",
       "function* uploadFilesStep(inputId, outputId) {\n",
       "  const inputElement = document.getElementById(inputId);\n",
       "  inputElement.disabled = false;\n",
       "\n",
       "  const outputElement = document.getElementById(outputId);\n",
       "  outputElement.innerHTML = '';\n",
       "\n",
       "  const pickedPromise = new Promise((resolve) => {\n",
       "    inputElement.addEventListener('change', (e) => {\n",
       "      resolve(e.target.files);\n",
       "    });\n",
       "  });\n",
       "\n",
       "  const cancel = document.createElement('button');\n",
       "  inputElement.parentElement.appendChild(cancel);\n",
       "  cancel.textContent = 'Cancel upload';\n",
       "  const cancelPromise = new Promise((resolve) => {\n",
       "    cancel.onclick = () => {\n",
       "      resolve(null);\n",
       "    };\n",
       "  });\n",
       "\n",
       "  // Wait for the user to pick the files.\n",
       "  const files = yield {\n",
       "    promise: Promise.race([pickedPromise, cancelPromise]),\n",
       "    response: {\n",
       "      action: 'starting',\n",
       "    }\n",
       "  };\n",
       "\n",
       "  cancel.remove();\n",
       "\n",
       "  // Disable the input element since further picks are not allowed.\n",
       "  inputElement.disabled = true;\n",
       "\n",
       "  if (!files) {\n",
       "    return {\n",
       "      response: {\n",
       "        action: 'complete',\n",
       "      }\n",
       "    };\n",
       "  }\n",
       "\n",
       "  for (const file of files) {\n",
       "    const li = document.createElement('li');\n",
       "    li.append(span(file.name, {fontWeight: 'bold'}));\n",
       "    li.append(span(\n",
       "        `(${file.type || 'n/a'}) - ${file.size} bytes, ` +\n",
       "        `last modified: ${\n",
       "            file.lastModifiedDate ? file.lastModifiedDate.toLocaleDateString() :\n",
       "                                    'n/a'} - `));\n",
       "    const percent = span('0% done');\n",
       "    li.appendChild(percent);\n",
       "\n",
       "    outputElement.appendChild(li);\n",
       "\n",
       "    const fileDataPromise = new Promise((resolve) => {\n",
       "      const reader = new FileReader();\n",
       "      reader.onload = (e) => {\n",
       "        resolve(e.target.result);\n",
       "      };\n",
       "      reader.readAsArrayBuffer(file);\n",
       "    });\n",
       "    // Wait for the data to be ready.\n",
       "    let fileData = yield {\n",
       "      promise: fileDataPromise,\n",
       "      response: {\n",
       "        action: 'continue',\n",
       "      }\n",
       "    };\n",
       "\n",
       "    // Use a chunked sending to avoid message size limits. See b/62115660.\n",
       "    let position = 0;\n",
       "    do {\n",
       "      const length = Math.min(fileData.byteLength - position, MAX_PAYLOAD_SIZE);\n",
       "      const chunk = new Uint8Array(fileData, position, length);\n",
       "      position += length;\n",
       "\n",
       "      const base64 = btoa(String.fromCharCode.apply(null, chunk));\n",
       "      yield {\n",
       "        response: {\n",
       "          action: 'append',\n",
       "          file: file.name,\n",
       "          data: base64,\n",
       "        },\n",
       "      };\n",
       "\n",
       "      let percentDone = fileData.byteLength === 0 ?\n",
       "          100 :\n",
       "          Math.round((position / fileData.byteLength) * 100);\n",
       "      percent.textContent = `${percentDone}% done`;\n",
       "\n",
       "    } while (position < fileData.byteLength);\n",
       "  }\n",
       "\n",
       "  // All done.\n",
       "  yield {\n",
       "    response: {\n",
       "      action: 'complete',\n",
       "    }\n",
       "  };\n",
       "}\n",
       "\n",
       "scope.google = scope.google || {};\n",
       "scope.google.colab = scope.google.colab || {};\n",
       "scope.google.colab._files = {\n",
       "  _uploadFiles,\n",
       "  _uploadFilesContinue,\n",
       "};\n",
       "})(self);\n",
       "</script> "
      ],
      "text/plain": [
       "<IPython.core.display.HTML object>"
      ]
     },
     "metadata": {},
     "output_type": "display_data"
    },
    {
     "name": "stdout",
     "output_type": "stream",
     "text": [
      "Saving data_news.csv to data_news.csv\n"
     ]
    },
    {
     "data": {
      "text/html": [
       "\n",
       "  <div id=\"df-e13a2e2a-a20c-4646-b768-d79d54afb0b5\">\n",
       "    <div class=\"colab-df-container\">\n",
       "      <div>\n",
       "<style scoped>\n",
       "    .dataframe tbody tr th:only-of-type {\n",
       "        vertical-align: middle;\n",
       "    }\n",
       "\n",
       "    .dataframe tbody tr th {\n",
       "        vertical-align: top;\n",
       "    }\n",
       "\n",
       "    .dataframe thead th {\n",
       "        text-align: right;\n",
       "    }\n",
       "</style>\n",
       "<table border=\"1\" class=\"dataframe\">\n",
       "  <thead>\n",
       "    <tr style=\"text-align: right;\">\n",
       "      <th></th>\n",
       "      <th>category</th>\n",
       "      <th>article_content</th>\n",
       "    </tr>\n",
       "  </thead>\n",
       "  <tbody>\n",
       "    <tr>\n",
       "      <th>0</th>\n",
       "      <td>Economy</td>\n",
       "      <td>Mongolian tent-dwellers face growing hardship ...</td>\n",
       "    </tr>\n",
       "    <tr>\n",
       "      <th>1</th>\n",
       "      <td>Economy</td>\n",
       "      <td>Beijing to roll out subsidies and tax credits ...</td>\n",
       "    </tr>\n",
       "    <tr>\n",
       "      <th>2</th>\n",
       "      <td>Economy</td>\n",
       "      <td>Prosecutors said he defrauded customers by mis...</td>\n",
       "    </tr>\n",
       "    <tr>\n",
       "      <th>3</th>\n",
       "      <td>Economy</td>\n",
       "      <td>The world’s biggest cryptocurrency exchange sa...</td>\n",
       "    </tr>\n",
       "    <tr>\n",
       "      <th>4</th>\n",
       "      <td>Economy</td>\n",
       "      <td>Consumer prices saw the slowest increase in 15...</td>\n",
       "    </tr>\n",
       "  </tbody>\n",
       "</table>\n",
       "</div>\n",
       "      <button class=\"colab-df-convert\" onclick=\"convertToInteractive('df-e13a2e2a-a20c-4646-b768-d79d54afb0b5')\"\n",
       "              title=\"Convert this dataframe to an interactive table.\"\n",
       "              style=\"display:none;\">\n",
       "        \n",
       "  <svg xmlns=\"http://www.w3.org/2000/svg\" height=\"24px\"viewBox=\"0 0 24 24\"\n",
       "       width=\"24px\">\n",
       "    <path d=\"M0 0h24v24H0V0z\" fill=\"none\"/>\n",
       "    <path d=\"M18.56 5.44l.94 2.06.94-2.06 2.06-.94-2.06-.94-.94-2.06-.94 2.06-2.06.94zm-11 1L8.5 8.5l.94-2.06 2.06-.94-2.06-.94L8.5 2.5l-.94 2.06-2.06.94zm10 10l.94 2.06.94-2.06 2.06-.94-2.06-.94-.94-2.06-.94 2.06-2.06.94z\"/><path d=\"M17.41 7.96l-1.37-1.37c-.4-.4-.92-.59-1.43-.59-.52 0-1.04.2-1.43.59L10.3 9.45l-7.72 7.72c-.78.78-.78 2.05 0 2.83L4 21.41c.39.39.9.59 1.41.59.51 0 1.02-.2 1.41-.59l7.78-7.78 2.81-2.81c.8-.78.8-2.07 0-2.86zM5.41 20L4 18.59l7.72-7.72 1.47 1.35L5.41 20z\"/>\n",
       "  </svg>\n",
       "      </button>\n",
       "      \n",
       "  <style>\n",
       "    .colab-df-container {\n",
       "      display:flex;\n",
       "      flex-wrap:wrap;\n",
       "      gap: 12px;\n",
       "    }\n",
       "\n",
       "    .colab-df-convert {\n",
       "      background-color: #E8F0FE;\n",
       "      border: none;\n",
       "      border-radius: 50%;\n",
       "      cursor: pointer;\n",
       "      display: none;\n",
       "      fill: #1967D2;\n",
       "      height: 32px;\n",
       "      padding: 0 0 0 0;\n",
       "      width: 32px;\n",
       "    }\n",
       "\n",
       "    .colab-df-convert:hover {\n",
       "      background-color: #E2EBFA;\n",
       "      box-shadow: 0px 1px 2px rgba(60, 64, 67, 0.3), 0px 1px 3px 1px rgba(60, 64, 67, 0.15);\n",
       "      fill: #174EA6;\n",
       "    }\n",
       "\n",
       "    [theme=dark] .colab-df-convert {\n",
       "      background-color: #3B4455;\n",
       "      fill: #D2E3FC;\n",
       "    }\n",
       "\n",
       "    [theme=dark] .colab-df-convert:hover {\n",
       "      background-color: #434B5C;\n",
       "      box-shadow: 0px 1px 3px 1px rgba(0, 0, 0, 0.15);\n",
       "      filter: drop-shadow(0px 1px 2px rgba(0, 0, 0, 0.3));\n",
       "      fill: #FFFFFF;\n",
       "    }\n",
       "  </style>\n",
       "\n",
       "      <script>\n",
       "        const buttonEl =\n",
       "          document.querySelector('#df-e13a2e2a-a20c-4646-b768-d79d54afb0b5 button.colab-df-convert');\n",
       "        buttonEl.style.display =\n",
       "          google.colab.kernel.accessAllowed ? 'block' : 'none';\n",
       "\n",
       "        async function convertToInteractive(key) {\n",
       "          const element = document.querySelector('#df-e13a2e2a-a20c-4646-b768-d79d54afb0b5');\n",
       "          const dataTable =\n",
       "            await google.colab.kernel.invokeFunction('convertToInteractive',\n",
       "                                                     [key], {});\n",
       "          if (!dataTable) return;\n",
       "\n",
       "          const docLinkHtml = 'Like what you see? Visit the ' +\n",
       "            '<a target=\"_blank\" href=https://colab.research.google.com/notebooks/data_table.ipynb>data table notebook</a>'\n",
       "            + ' to learn more about interactive tables.';\n",
       "          element.innerHTML = '';\n",
       "          dataTable['output_type'] = 'display_data';\n",
       "          await google.colab.output.renderOutput(dataTable, element);\n",
       "          const docLink = document.createElement('div');\n",
       "          docLink.innerHTML = docLinkHtml;\n",
       "          element.appendChild(docLink);\n",
       "        }\n",
       "      </script>\n",
       "    </div>\n",
       "  </div>\n",
       "  "
      ],
      "text/plain": [
       "  category                                    article_content\n",
       "0  Economy  Mongolian tent-dwellers face growing hardship ...\n",
       "1  Economy  Beijing to roll out subsidies and tax credits ...\n",
       "2  Economy  Prosecutors said he defrauded customers by mis...\n",
       "3  Economy  The world’s biggest cryptocurrency exchange sa...\n",
       "4  Economy  Consumer prices saw the slowest increase in 15..."
      ]
     },
     "execution_count": 4,
     "metadata": {},
     "output_type": "execute_result"
    }
   ],
   "source": [
    "from google.colab import files\n",
    "data_to_load = files.upload()\n",
    "import io\n",
    "data= pd.read_csv(io.BytesIO(data_to_load['data_news.csv']))\n",
    "data.head()"
   ]
  },
  {
   "cell_type": "code",
   "execution_count": null,
   "metadata": {
    "colab": {
     "base_uri": "https://localhost:8080/"
    },
    "id": "ECahtmtqUtW8",
    "outputId": "17ac7a73-9fb2-4e68-d950-803b42db0836"
   },
   "outputs": [
    {
     "name": "stdout",
     "output_type": "stream",
     "text": [
      "+--------+--------------------------------------------------+\n",
      "|category|                                   article_content|\n",
      "+--------+--------------------------------------------------+\n",
      "| Economy|Mongolian tent-dwellers face growing hardship a...|\n",
      "| Economy|Beijing to roll out subsidies and tax credits t...|\n",
      "| Economy|Prosecutors said he defrauded customers by misa...|\n",
      "| Economy|The world’s biggest cryptocurrency exchange sai...|\n",
      "| Economy|Consumer prices saw the slowest increase in 15 ...|\n",
      "| Economy|The biggest rail union start national strike ov...|\n",
      "| Economy|Customer assets at FTX were commingled with tho...|\n",
      "| Economy|IMF board approval of the proposed three-year l...|\n",
      "| Economy|Airbnb units in the city’s central areas can li...|\n",
      "| Economy|Some fear the Alternative for Germany party cou...|\n",
      "+--------+--------------------------------------------------+\n",
      "only showing top 10 rows\n",
      "\n"
     ]
    }
   ],
   "source": [
    "import pyspark.sql.functions as F\n",
    "df = spark.read\\\n",
    "                .option(\"header\", \"true\")\\\n",
    "                .csv(\"data_news.csv\")\n",
    "df.show(10, truncate=50)"
   ]
  },
  {
   "cell_type": "code",
   "execution_count": null,
   "metadata": {
    "colab": {
     "base_uri": "https://localhost:8080/"
    },
    "id": "AKmev_LsUtZq",
    "outputId": "17cc2714-b3fb-4786-d46a-2b43cfe78edb"
   },
   "outputs": [
    {
     "name": "stdout",
     "output_type": "stream",
     "text": [
      "+--------------------+-----+\n",
      "|            category|count|\n",
      "+--------------------+-----+\n",
      "|             Economy| 3032|\n",
      "|Science & Technology| 2973|\n",
      "|              Sports| 2921|\n",
      "+--------------------+-----+\n",
      "\n"
     ]
    }
   ],
   "source": [
    "from pyspark.sql.functions import col\n",
    "\n",
    "df.groupBy(\"category\") \\\n",
    "      .count() \\\n",
    "      .orderBy(col(\"count\").desc()) \\\n",
    "      .show()\n"
   ]
  },
  {
   "cell_type": "code",
   "execution_count": null,
   "metadata": {
    "colab": {
     "base_uri": "https://localhost:8080/"
    },
    "id": "pChu8hIhUtbZ",
    "outputId": "0642b64d-5fd3-450f-8a0d-a351292383af"
   },
   "outputs": [
    {
     "name": "stdout",
     "output_type": "stream",
     "text": [
      "Training Dataset Count: 8039\n",
      "Test Dataset Count: 887\n"
     ]
    }
   ],
   "source": [
    "#  split the dataset\n",
    "\n",
    "(trainingData, testData) = df.randomSplit([0.9, 0.1], seed = 100)\n",
    "print(\"Training Dataset Count: \" + str(trainingData.count()))\n",
    "print(\"Test Dataset Count: \" + str(testData.count()))"
   ]
  },
  {
   "cell_type": "code",
   "execution_count": null,
   "metadata": {
    "colab": {
     "base_uri": "https://localhost:8080/"
    },
    "id": "uTwRBScmUtcu",
    "outputId": "c11b071c-34c2-4d33-fe39-3e7cb6edb956"
   },
   "outputs": [
    {
     "name": "stdout",
     "output_type": "stream",
     "text": [
      "+--------------------+-----+\n",
      "|            category|count|\n",
      "+--------------------+-----+\n",
      "|             Economy| 2749|\n",
      "|Science & Technology| 2680|\n",
      "|              Sports| 2610|\n",
      "+--------------------+-----+\n",
      "\n"
     ]
    }
   ],
   "source": [
    "from pyspark.sql.functions import col\n",
    "\n",
    "trainingData.groupBy(\"category\") \\\n",
    "      .count() \\\n",
    "      .orderBy(col(\"count\").desc()) \\\n",
    "      .show()\n"
   ]
  },
  {
   "cell_type": "code",
   "execution_count": null,
   "metadata": {
    "colab": {
     "base_uri": "https://localhost:8080/"
    },
    "id": "y3OO2BTUU61b",
    "outputId": "f4057733-848c-4285-9ffa-5cac85dc5773"
   },
   "outputs": [
    {
     "name": "stdout",
     "output_type": "stream",
     "text": [
      "+--------------------+-----+\n",
      "|            category|count|\n",
      "+--------------------+-----+\n",
      "|              Sports|  311|\n",
      "|Science & Technology|  293|\n",
      "|             Economy|  283|\n",
      "+--------------------+-----+\n",
      "\n"
     ]
    }
   ],
   "source": [
    "testData.groupBy(\"category\") \\\n",
    "    .count() \\\n",
    "    .orderBy(col(\"count\").desc()) \\\n",
    "    .show()"
   ]
  },
  {
   "cell_type": "markdown",
   "metadata": {
    "id": "qQmc35SGVH39"
   },
   "source": [
    "**model 1 acc=91%**"
   ]
  },
  {
   "cell_type": "code",
   "execution_count": null,
   "metadata": {
    "colab": {
     "base_uri": "https://localhost:8080/"
    },
    "id": "Ers9tSXTU65C",
    "outputId": "50ab9d29-c509-4b5a-cfb4-4dfe63575218"
   },
   "outputs": [
    {
     "name": "stdout",
     "output_type": "stream",
     "text": [
      "sent_bert_use_cmlm_en_base download started this may take some time.\n",
      "Approximate size to download 391.6 MB\n",
      "[OK!]\n"
     ]
    }
   ],
   "source": [
    "document = DocumentAssembler()\\\n",
    "              .setInputCol(\"article_content\")\\\n",
    "              .setOutputCol(\"document\")\n",
    "    \n",
    "bert_cmlm = BertSentenceEmbeddings.pretrained('sent_bert_use_cmlm_en_base', 'en')\\\n",
    "              .setInputCols([\"document\"])\\\n",
    "              .setOutputCol(\"sentence_embeddings\")\n",
    "\n",
    "classsifierdl = ClassifierDLApproach()\\\n",
    "              .setInputCols([\"sentence_embeddings\"])\\\n",
    "              .setOutputCol(\"class\")\\\n",
    "              .setLabelColumn(\"category\")\\\n",
    "              .setMaxEpochs(10)\\\n",
    "              .setEnableOutputLogs(True)\\\n",
    "              .setLr(0.001)\n",
    "\n",
    "bert_cmlm_clf_pipeline = Pipeline(stages = [document,\n",
    "                                            bert_cmlm,\n",
    "                                            classsifierdl])"
   ]
  },
  {
   "cell_type": "code",
   "execution_count": null,
   "metadata": {
    "id": "82fS0-IwU68Y"
   },
   "outputs": [],
   "source": [
    "Model2 = bert_cmlm_clf_pipeline.fit(trainingData)"
   ]
  },
  {
   "cell_type": "code",
   "execution_count": null,
   "metadata": {
    "id": "tvjYlB-6U6-2"
   },
   "outputs": [],
   "source": [
    "preds2 = Model2.transform(testData)"
   ]
  },
  {
   "cell_type": "code",
   "execution_count": null,
   "metadata": {
    "colab": {
     "base_uri": "https://localhost:8080/"
    },
    "id": "qx8R55xRU7C_",
    "outputId": "647dfdb7-79a9-4dbf-bbb3-7f9e54b4b8fe"
   },
   "outputs": [
    {
     "name": "stdout",
     "output_type": "stream",
     "text": [
      "                      precision    recall  f1-score   support\n",
      "\n",
      "             Economy       0.85      0.85      0.85       283\n",
      "Science & Technology       0.87      0.85      0.86       293\n",
      "              Sports       0.97      1.00      0.98       311\n",
      "\n",
      "            accuracy                           0.90       887\n",
      "           macro avg       0.90      0.90      0.90       887\n",
      "        weighted avg       0.90      0.90      0.90       887\n",
      "\n"
     ]
    }
   ],
   "source": [
    "preds= preds2.select('category','article_content',\"class.result\").toPandas()\n",
    "preds['result'] = preds['result'].apply(lambda x : x[0])\n",
    "from sklearn.metrics import classification_report\n",
    "print (classification_report(preds['category'], preds['result']))"
   ]
  },
  {
   "cell_type": "code",
   "execution_count": null,
   "metadata": {
    "id": "jZtG_g-WYxKi"
   },
   "outputs": [],
   "source": [
    "from google.colab import drive\n"
   ]
  },
  {
   "cell_type": "code",
   "execution_count": null,
   "metadata": {
    "id": "hAQWMcVcZiEF"
   },
   "outputs": [],
   "source": [
    "Model2.save('/content/drive/MyDrive/use_clf')"
   ]
  },
  {
   "cell_type": "code",
   "execution_count": null,
   "metadata": {
    "id": "is8BmO2BWFeY"
   },
   "outputs": [],
   "source": [
    "Model2.save('my_model') "
   ]
  },
  {
   "cell_type": "code",
   "execution_count": null,
   "metadata": {
    "colab": {
     "base_uri": "https://localhost:8080/"
    },
    "id": "c4KNxpSmWFgw",
    "outputId": "6d5a3971-8d22-4422-f3ea-d3834b10e912"
   },
   "outputs": [
    {
     "data": {
      "text/plain": [
       "[DocumentAssembler_61ee157bf1ec,\n",
       " BERT_SENTENCE_EMBEDDINGS_561b5fbb81d8,\n",
       " ClassifierDLModel_33ca83ea43b9]"
      ]
     },
     "execution_count": 16,
     "metadata": {},
     "output_type": "execute_result"
    }
   ],
   "source": [
    "Model2.stages"
   ]
  },
  {
   "cell_type": "code",
   "execution_count": null,
   "metadata": {
    "id": "qAk3TTPuWFkF"
   },
   "outputs": [],
   "source": [
    "Model2.stages[2].write().overwrite().save('MultilabelClfBert')"
   ]
  },
  {
   "cell_type": "code",
   "execution_count": null,
   "metadata": {
    "id": "w5O4BS2xWOZ5"
   },
   "outputs": [],
   "source": [
    "ClassifierDLModel = ClassifierDLModel.load('MultilabelClfBert')"
   ]
  },
  {
   "cell_type": "code",
   "execution_count": null,
   "metadata": {
    "id": "gDWdmQJTWOcb"
   },
   "outputs": [],
   "source": [
    "# Generate prediction Pipeline with loaded Model \n",
    "ld_pipeline = Pipeline(stages=[document, bert_cmlm, ClassifierDLModel])\n",
    "ld_pipeline_model = ld_pipeline.fit(spark.createDataFrame([['']]).toDF(\"text\"))"
   ]
  },
  {
   "cell_type": "code",
   "execution_count": null,
   "metadata": {
    "id": "-PG-6cOVWOfJ"
   },
   "outputs": [],
   "source": [
    "# Apply Model Transform to testData\n",
    "ld_preds = ld_pipeline_model.transform(testData)"
   ]
  },
  {
   "cell_type": "code",
   "execution_count": null,
   "metadata": {
    "id": "mvP_CNGoWV8E"
   },
   "outputs": [],
   "source": [
    "ld_preds_df = ld_preds.select('category','article_content',\"class.result\").toPandas()"
   ]
  },
  {
   "cell_type": "code",
   "execution_count": null,
   "metadata": {
    "colab": {
     "base_uri": "https://localhost:8080/",
     "height": 363
    },
    "id": "4wPiI7xMWV-h",
    "outputId": "8ede9c69-a8e8-4895-82bb-afc1a97d89e8"
   },
   "outputs": [
    {
     "data": {
      "text/html": [
       "\n",
       "  <div id=\"df-6961429f-b04a-45b3-954d-247a0d1a53ed\">\n",
       "    <div class=\"colab-df-container\">\n",
       "      <div>\n",
       "<style scoped>\n",
       "    .dataframe tbody tr th:only-of-type {\n",
       "        vertical-align: middle;\n",
       "    }\n",
       "\n",
       "    .dataframe tbody tr th {\n",
       "        vertical-align: top;\n",
       "    }\n",
       "\n",
       "    .dataframe thead th {\n",
       "        text-align: right;\n",
       "    }\n",
       "</style>\n",
       "<table border=\"1\" class=\"dataframe\">\n",
       "  <thead>\n",
       "    <tr style=\"text-align: right;\">\n",
       "      <th></th>\n",
       "      <th>category</th>\n",
       "      <th>article_content</th>\n",
       "      <th>result</th>\n",
       "    </tr>\n",
       "  </thead>\n",
       "  <tbody>\n",
       "    <tr>\n",
       "      <th>0</th>\n",
       "      <td>Economy</td>\n",
       "      <td>$52bn bipartisan deal would subsidise US semic...</td>\n",
       "      <td>[Economy]</td>\n",
       "    </tr>\n",
       "    <tr>\n",
       "      <th>1</th>\n",
       "      <td>Economy</td>\n",
       "      <td>A ban is in the works but the question is, how...</td>\n",
       "      <td>[Economy]</td>\n",
       "    </tr>\n",
       "    <tr>\n",
       "      <th>2</th>\n",
       "      <td>Economy</td>\n",
       "      <td>A donor conference aims to help Moldova deal w...</td>\n",
       "      <td>[Economy]</td>\n",
       "    </tr>\n",
       "    <tr>\n",
       "      <th>3</th>\n",
       "      <td>Economy</td>\n",
       "      <td>A new joint task force to work on slashing the...</td>\n",
       "      <td>[Economy]</td>\n",
       "    </tr>\n",
       "    <tr>\n",
       "      <th>4</th>\n",
       "      <td>Economy</td>\n",
       "      <td>A new report says most exports went to Europea...</td>\n",
       "      <td>[Economy]</td>\n",
       "    </tr>\n",
       "    <tr>\n",
       "      <th>5</th>\n",
       "      <td>Economy</td>\n",
       "      <td>A number of countries have pledged $8.5bn and ...</td>\n",
       "      <td>[Science &amp; Technology]</td>\n",
       "    </tr>\n",
       "    <tr>\n",
       "      <th>6</th>\n",
       "      <td>Economy</td>\n",
       "      <td>A surging US dollar is making local currencies...</td>\n",
       "      <td>[Economy]</td>\n",
       "    </tr>\n",
       "    <tr>\n",
       "      <th>7</th>\n",
       "      <td>Economy</td>\n",
       "      <td>A worldwide survey from payroll provider ADP f...</td>\n",
       "      <td>[Science &amp; Technology]</td>\n",
       "    </tr>\n",
       "    <tr>\n",
       "      <th>8</th>\n",
       "      <td>Economy</td>\n",
       "      <td>Adoption rates of the eNaira, Africa’s first o...</td>\n",
       "      <td>[Science &amp; Technology]</td>\n",
       "    </tr>\n",
       "    <tr>\n",
       "      <th>9</th>\n",
       "      <td>Economy</td>\n",
       "      <td>After Ukrainian leader’s speech, US President ...</td>\n",
       "      <td>[Economy]</td>\n",
       "    </tr>\n",
       "  </tbody>\n",
       "</table>\n",
       "</div>\n",
       "      <button class=\"colab-df-convert\" onclick=\"convertToInteractive('df-6961429f-b04a-45b3-954d-247a0d1a53ed')\"\n",
       "              title=\"Convert this dataframe to an interactive table.\"\n",
       "              style=\"display:none;\">\n",
       "        \n",
       "  <svg xmlns=\"http://www.w3.org/2000/svg\" height=\"24px\"viewBox=\"0 0 24 24\"\n",
       "       width=\"24px\">\n",
       "    <path d=\"M0 0h24v24H0V0z\" fill=\"none\"/>\n",
       "    <path d=\"M18.56 5.44l.94 2.06.94-2.06 2.06-.94-2.06-.94-.94-2.06-.94 2.06-2.06.94zm-11 1L8.5 8.5l.94-2.06 2.06-.94-2.06-.94L8.5 2.5l-.94 2.06-2.06.94zm10 10l.94 2.06.94-2.06 2.06-.94-2.06-.94-.94-2.06-.94 2.06-2.06.94z\"/><path d=\"M17.41 7.96l-1.37-1.37c-.4-.4-.92-.59-1.43-.59-.52 0-1.04.2-1.43.59L10.3 9.45l-7.72 7.72c-.78.78-.78 2.05 0 2.83L4 21.41c.39.39.9.59 1.41.59.51 0 1.02-.2 1.41-.59l7.78-7.78 2.81-2.81c.8-.78.8-2.07 0-2.86zM5.41 20L4 18.59l7.72-7.72 1.47 1.35L5.41 20z\"/>\n",
       "  </svg>\n",
       "      </button>\n",
       "      \n",
       "  <style>\n",
       "    .colab-df-container {\n",
       "      display:flex;\n",
       "      flex-wrap:wrap;\n",
       "      gap: 12px;\n",
       "    }\n",
       "\n",
       "    .colab-df-convert {\n",
       "      background-color: #E8F0FE;\n",
       "      border: none;\n",
       "      border-radius: 50%;\n",
       "      cursor: pointer;\n",
       "      display: none;\n",
       "      fill: #1967D2;\n",
       "      height: 32px;\n",
       "      padding: 0 0 0 0;\n",
       "      width: 32px;\n",
       "    }\n",
       "\n",
       "    .colab-df-convert:hover {\n",
       "      background-color: #E2EBFA;\n",
       "      box-shadow: 0px 1px 2px rgba(60, 64, 67, 0.3), 0px 1px 3px 1px rgba(60, 64, 67, 0.15);\n",
       "      fill: #174EA6;\n",
       "    }\n",
       "\n",
       "    [theme=dark] .colab-df-convert {\n",
       "      background-color: #3B4455;\n",
       "      fill: #D2E3FC;\n",
       "    }\n",
       "\n",
       "    [theme=dark] .colab-df-convert:hover {\n",
       "      background-color: #434B5C;\n",
       "      box-shadow: 0px 1px 3px 1px rgba(0, 0, 0, 0.15);\n",
       "      filter: drop-shadow(0px 1px 2px rgba(0, 0, 0, 0.3));\n",
       "      fill: #FFFFFF;\n",
       "    }\n",
       "  </style>\n",
       "\n",
       "      <script>\n",
       "        const buttonEl =\n",
       "          document.querySelector('#df-6961429f-b04a-45b3-954d-247a0d1a53ed button.colab-df-convert');\n",
       "        buttonEl.style.display =\n",
       "          google.colab.kernel.accessAllowed ? 'block' : 'none';\n",
       "\n",
       "        async function convertToInteractive(key) {\n",
       "          const element = document.querySelector('#df-6961429f-b04a-45b3-954d-247a0d1a53ed');\n",
       "          const dataTable =\n",
       "            await google.colab.kernel.invokeFunction('convertToInteractive',\n",
       "                                                     [key], {});\n",
       "          if (!dataTable) return;\n",
       "\n",
       "          const docLinkHtml = 'Like what you see? Visit the ' +\n",
       "            '<a target=\"_blank\" href=https://colab.research.google.com/notebooks/data_table.ipynb>data table notebook</a>'\n",
       "            + ' to learn more about interactive tables.';\n",
       "          element.innerHTML = '';\n",
       "          dataTable['output_type'] = 'display_data';\n",
       "          await google.colab.output.renderOutput(dataTable, element);\n",
       "          const docLink = document.createElement('div');\n",
       "          docLink.innerHTML = docLinkHtml;\n",
       "          element.appendChild(docLink);\n",
       "        }\n",
       "      </script>\n",
       "    </div>\n",
       "  </div>\n",
       "  "
      ],
      "text/plain": [
       "  category                                    article_content  \\\n",
       "0  Economy  $52bn bipartisan deal would subsidise US semic...   \n",
       "1  Economy  A ban is in the works but the question is, how...   \n",
       "2  Economy  A donor conference aims to help Moldova deal w...   \n",
       "3  Economy  A new joint task force to work on slashing the...   \n",
       "4  Economy  A new report says most exports went to Europea...   \n",
       "5  Economy  A number of countries have pledged $8.5bn and ...   \n",
       "6  Economy  A surging US dollar is making local currencies...   \n",
       "7  Economy  A worldwide survey from payroll provider ADP f...   \n",
       "8  Economy  Adoption rates of the eNaira, Africa’s first o...   \n",
       "9  Economy  After Ukrainian leader’s speech, US President ...   \n",
       "\n",
       "                   result  \n",
       "0               [Economy]  \n",
       "1               [Economy]  \n",
       "2               [Economy]  \n",
       "3               [Economy]  \n",
       "4               [Economy]  \n",
       "5  [Science & Technology]  \n",
       "6               [Economy]  \n",
       "7  [Science & Technology]  \n",
       "8  [Science & Technology]  \n",
       "9               [Economy]  "
      ]
     },
     "execution_count": 23,
     "metadata": {},
     "output_type": "execute_result"
    }
   ],
   "source": [
    "ld_preds_df.head(10)"
   ]
  },
  {
   "cell_type": "markdown",
   "metadata": {
    "id": "nM9rrnUIVWuY"
   },
   "source": [
    "**Model 2 acc=89%**"
   ]
  },
  {
   "cell_type": "code",
   "execution_count": null,
   "metadata": {
    "colab": {
     "base_uri": "https://localhost:8080/"
    },
    "id": "ck2Gc9FkU7IA",
    "outputId": "2b71080c-4a7a-482c-f2c3-cfaf670acab6"
   },
   "outputs": [
    {
     "name": "stdout",
     "output_type": "stream",
     "text": [
      "tfhub_use download started this may take some time.\n",
      "Approximate size to download 923.7 MB\n",
      "[OK!]\n"
     ]
    }
   ],
   "source": [
    "# actual content is inside description column\n",
    "document = DocumentAssembler()\\\n",
    "    .setInputCol(\"article_content\")\\\n",
    "    .setOutputCol(\"document\")\n",
    "    \n",
    "use = UniversalSentenceEncoder.pretrained()\\\n",
    " .setInputCols([\"document\"])\\\n",
    " .setOutputCol(\"sentence_embeddings\")\n",
    "# the classes/labels/categories are in category column\n",
    "classsifierdl = ClassifierDLApproach()\\\n",
    "  .setInputCols([\"sentence_embeddings\"])\\\n",
    "  .setOutputCol(\"class\")\\\n",
    "  .setLabelColumn(\"category\")\\\n",
    "  .setMaxEpochs(5)\\\n",
    "  .setEnableOutputLogs(True)\n",
    "use_clf_pipeline = Pipeline(\n",
    "    stages = [\n",
    "        document,\n",
    "        use,\n",
    "        classsifierdl\n",
    "    ])"
   ]
  },
  {
   "cell_type": "code",
   "execution_count": null,
   "metadata": {
    "id": "MqOP2Hb9VVhE"
   },
   "outputs": [],
   "source": [
    "Model = use_clf_pipeline.fit(trainingData)"
   ]
  },
  {
   "cell_type": "code",
   "execution_count": null,
   "metadata": {
    "id": "Ciw9sTAGU7KO"
   },
   "outputs": [],
   "source": [
    "preds = Model.transform(testData)"
   ]
  },
  {
   "cell_type": "code",
   "execution_count": null,
   "metadata": {
    "colab": {
     "base_uri": "https://localhost:8080/"
    },
    "id": "dWnewLzNVixT",
    "outputId": "8f053b2b-3cef-43b7-c81b-c142585e13c1"
   },
   "outputs": [
    {
     "name": "stdout",
     "output_type": "stream",
     "text": [
      "+--------+--------------------------------------------------------------------------------+----------------------+\n",
      "|category|                                                                 article_content|                result|\n",
      "+--------+--------------------------------------------------------------------------------+----------------------+\n",
      "| Economy|$52bn bipartisan deal would subsidise US semiconductor manufacturing to boost...|[Science & Technology]|\n",
      "| Economy|A ban is in the works but the question is, how effective will it be in limiti...|             [Economy]|\n",
      "| Economy|A donor conference aims to help Moldova deal with the impact of the Ukraine w...|             [Economy]|\n",
      "| Economy|A new joint task force to work on slashing the bloc’s dependence on Russian f...|             [Economy]|\n",
      "| Economy|A new report says most exports went to European countries as Kyiv urges the W...|             [Economy]|\n",
      "| Economy|A number of countries have pledged $8.5bn and technical assistance to help So...|[Science & Technology]|\n",
      "| Economy|A surging US dollar is making local currencies weaker and contributing to sky...|             [Economy]|\n",
      "| Economy|A worldwide survey from payroll provider ADP found that worker demands for fl...|             [Economy]|\n",
      "| Economy|Adoption rates of the eNaira, Africa’s first official digital currency, have ...|             [Economy]|\n",
      "| Economy|After Ukrainian leader’s speech, US President Joe Biden announces $800m in ad...|[Science & Technology]|\n",
      "+--------+--------------------------------------------------------------------------------+----------------------+\n",
      "only showing top 10 rows\n",
      "\n"
     ]
    }
   ],
   "source": [
    "preds.select('category','article_content',\"class.result\").show(10, truncate=80)"
   ]
  },
  {
   "cell_type": "code",
   "execution_count": null,
   "metadata": {
    "colab": {
     "base_uri": "https://localhost:8080/"
    },
    "id": "9W8TknXpVi0B",
    "outputId": "bd68d0c4-a837-4d9f-a18c-e0640ff0bffb"
   },
   "outputs": [
    {
     "name": "stdout",
     "output_type": "stream",
     "text": [
      "                      precision    recall  f1-score   support\n",
      "\n",
      "             Economy       0.88      0.79      0.83       283\n",
      "Science & Technology       0.82      0.90      0.86       293\n",
      "              Sports       0.98      0.97      0.98       311\n",
      "\n",
      "            accuracy                           0.89       887\n",
      "           macro avg       0.89      0.89      0.89       887\n",
      "        weighted avg       0.89      0.89      0.89       887\n",
      "\n"
     ]
    }
   ],
   "source": [
    "preds= preds.select('category','article_content',\"class.result\").toPandas()\n",
    "\n",
    "preds['result'] = preds['result'].apply(lambda x : x[0])\n",
    "from sklearn.metrics import classification_report\n",
    "\n",
    "print (classification_report(preds['category'], preds['result']))"
   ]
  },
  {
   "cell_type": "code",
   "execution_count": null,
   "metadata": {
    "id": "hx8R0SjPdOGT"
   },
   "outputs": [],
   "source": [
    "from pyspark.mllib.evaluation import MulticlassMetrics"
   ]
  },
  {
   "cell_type": "markdown",
   "metadata": {
    "id": "vzKDGTTKVnSt"
   },
   "source": [
    "**model 3 acc=89%**"
   ]
  },
  {
   "cell_type": "code",
   "execution_count": null,
   "metadata": {
    "colab": {
     "base_uri": "https://localhost:8080/"
    },
    "id": "6osarzRPVi2-",
    "outputId": "8dffcfad-ed2c-4f43-9192-3a5ff41b4e87"
   },
   "outputs": [
    {
     "name": "stdout",
     "output_type": "stream",
     "text": [
      "lemma_antbnc download started this may take some time.\n",
      "Approximate size to download 907.6 KB\n",
      "[OK!]\n",
      "glove_100d download started this may take some time.\n",
      "Approximate size to download 145.3 MB\n",
      "[OK!]\n"
     ]
    }
   ],
   "source": [
    "document_assembler = DocumentAssembler() \\\n",
    "            .setInputCol(\"article_content\") \\\n",
    "            .setOutputCol(\"document\")\n",
    "    \n",
    "tokenizer = Tokenizer() \\\n",
    "            .setInputCols([\"document\"]) \\\n",
    "            .setOutputCol(\"token\")\n",
    "          \n",
    "normalizer = Normalizer() \\\n",
    "            .setInputCols([\"token\"]) \\\n",
    "            .setOutputCol(\"normalized\")\n",
    "\n",
    "stopwords_cleaner = StopWordsCleaner()\\\n",
    "            .setInputCols(\"normalized\")\\\n",
    "            .setOutputCol(\"cleanTokens\")\\\n",
    "            .setCaseSensitive(False)\n",
    "\n",
    "lemma = LemmatizerModel.pretrained('lemma_antbnc') \\\n",
    "            .setInputCols([\"cleanTokens\"]) \\\n",
    "            .setOutputCol(\"lemma\")\n",
    "            \n",
    "glove_embeddings = WordEmbeddingsModel().pretrained() \\\n",
    "                        .setInputCols([\"document\",'lemma'])\\\n",
    "                        .setOutputCol(\"embeddings\")\\\n",
    "                        .setCaseSensitive(False)\n",
    "\n",
    "embeddingsSentence = SentenceEmbeddings() \\\n",
    "                        .setInputCols([\"document\", \"embeddings\"]) \\\n",
    "                        .setOutputCol(\"sentence_embeddings\") \\\n",
    "                        .setPoolingStrategy(\"AVERAGE\")\n",
    "\n",
    "classsifierdl = ClassifierDLApproach()\\\n",
    "                        .setInputCols([\"sentence_embeddings\"])\\\n",
    "                        .setOutputCol(\"class\")\\\n",
    "                        .setLabelColumn(\"category\")\\\n",
    "                        .setMaxEpochs(10)\\\n",
    "                        .setLr(0.001)\\\n",
    "                        .setBatchSize(8)\\\n",
    "                        .setEnableOutputLogs(True)\n",
    "                        #.setOutputLogsPath('logs')\n",
    "\n",
    "clf_pipeline = Pipeline(\n",
    "    stages=[\n",
    "        document_assembler, \n",
    "        tokenizer,\n",
    "        normalizer,\n",
    "        stopwords_cleaner, \n",
    "        lemma, \n",
    "        glove_embeddings,\n",
    "        embeddingsSentence,\n",
    "        classsifierdl])"
   ]
  },
  {
   "cell_type": "code",
   "execution_count": null,
   "metadata": {
    "id": "oCwCHhZOV5e5"
   },
   "outputs": [],
   "source": [
    "clf_pipelineModel = clf_pipeline.fit(trainingData)"
   ]
  },
  {
   "cell_type": "code",
   "execution_count": null,
   "metadata": {
    "colab": {
     "base_uri": "https://localhost:8080/"
    },
    "id": "g7om98eEV5ie",
    "outputId": "2c23fd1a-2373-4209-93c6-67078ec2e51e"
   },
   "outputs": [
    {
     "name": "stdout",
     "output_type": "stream",
     "text": [
      "+--------+--------------------------------------------------------------------------------+----------------------+\n",
      "|category|                                                                 article_content|                result|\n",
      "+--------+--------------------------------------------------------------------------------+----------------------+\n",
      "| Economy|$52bn bipartisan deal would subsidise US semiconductor manufacturing to boost...|             [Economy]|\n",
      "| Economy|A ban is in the works but the question is, how effective will it be in limiti...|             [Economy]|\n",
      "| Economy|A donor conference aims to help Moldova deal with the impact of the Ukraine w...|             [Economy]|\n",
      "| Economy|A new joint task force to work on slashing the bloc’s dependence on Russian f...|             [Economy]|\n",
      "| Economy|A new report says most exports went to European countries as Kyiv urges the W...|             [Economy]|\n",
      "| Economy|A number of countries have pledged $8.5bn and technical assistance to help So...|[Science & Technology]|\n",
      "| Economy|A surging US dollar is making local currencies weaker and contributing to sky...|             [Economy]|\n",
      "| Economy|A worldwide survey from payroll provider ADP found that worker demands for fl...|             [Economy]|\n",
      "| Economy|Adoption rates of the eNaira, Africa’s first official digital currency, have ...|[Science & Technology]|\n",
      "| Economy|After Ukrainian leader’s speech, US President Joe Biden announces $800m in ad...|[Science & Technology]|\n",
      "+--------+--------------------------------------------------------------------------------+----------------------+\n",
      "only showing top 10 rows\n",
      "\n"
     ]
    }
   ],
   "source": [
    "preds4 = clf_pipelineModel.transform(testData)\n",
    "preds4.select('category','article_content',\"class.result\").show(10, truncate=80)"
   ]
  },
  {
   "cell_type": "code",
   "execution_count": null,
   "metadata": {
    "colab": {
     "base_uri": "https://localhost:8080/"
    },
    "id": "rheCDsU6V5ku",
    "outputId": "f0c87822-0bf6-4d70-dccb-cd120f172fdd"
   },
   "outputs": [
    {
     "name": "stdout",
     "output_type": "stream",
     "text": [
      "                      precision    recall  f1-score   support\n",
      "\n",
      "             Economy       0.84      0.82      0.83       283\n",
      "Science & Technology       0.84      0.85      0.85       293\n",
      "              Sports       0.96      0.97      0.97       311\n",
      "\n",
      "            accuracy                           0.88       887\n",
      "           macro avg       0.88      0.88      0.88       887\n",
      "        weighted avg       0.88      0.88      0.88       887\n",
      "\n"
     ]
    }
   ],
   "source": [
    "preds= preds4.select('category','article_content',\"class.result\").toPandas()\n",
    "preds['result'] = preds['result'].apply(lambda x : x[0])\n",
    "from sklearn.metrics import classification_report\n",
    "print (classification_report(preds['category'], preds['result']))"
   ]
  },
  {
   "cell_type": "code",
   "execution_count": null,
   "metadata": {
    "colab": {
     "base_uri": "https://localhost:8080/"
    },
    "id": "yVN5W0Lv_AeJ",
    "outputId": "ade76fa2-979a-4103-dcc7-f3c4385a3960"
   },
   "outputs": [
    {
     "name": "stdout",
     "output_type": "stream",
     "text": [
      "Looking in indexes: https://pypi.org/simple, https://us-python.pkg.dev/colab-wheels/public/simple/\n",
      "Collecting flask_ngrok\n",
      "  Downloading flask_ngrok-0.0.25-py3-none-any.whl (3.1 kB)\n",
      "Requirement already satisfied: requests in /usr/local/lib/python3.8/dist-packages (from flask_ngrok) (2.23.0)\n",
      "Requirement already satisfied: Flask>=0.8 in /usr/local/lib/python3.8/dist-packages (from flask_ngrok) (1.1.4)\n",
      "Requirement already satisfied: Jinja2<3.0,>=2.10.1 in /usr/local/lib/python3.8/dist-packages (from Flask>=0.8->flask_ngrok) (2.11.3)\n",
      "Requirement already satisfied: Werkzeug<2.0,>=0.15 in /usr/local/lib/python3.8/dist-packages (from Flask>=0.8->flask_ngrok) (1.0.1)\n",
      "Requirement already satisfied: click<8.0,>=5.1 in /usr/local/lib/python3.8/dist-packages (from Flask>=0.8->flask_ngrok) (7.1.2)\n",
      "Requirement already satisfied: itsdangerous<2.0,>=0.24 in /usr/local/lib/python3.8/dist-packages (from Flask>=0.8->flask_ngrok) (1.1.0)\n",
      "Requirement already satisfied: MarkupSafe>=0.23 in /usr/local/lib/python3.8/dist-packages (from Jinja2<3.0,>=2.10.1->Flask>=0.8->flask_ngrok) (2.0.1)\n",
      "Requirement already satisfied: certifi>=2017.4.17 in /usr/local/lib/python3.8/dist-packages (from requests->flask_ngrok) (2022.12.7)\n",
      "Requirement already satisfied: urllib3!=1.25.0,!=1.25.1,<1.26,>=1.21.1 in /usr/local/lib/python3.8/dist-packages (from requests->flask_ngrok) (1.24.3)\n",
      "Requirement already satisfied: idna<3,>=2.5 in /usr/local/lib/python3.8/dist-packages (from requests->flask_ngrok) (2.10)\n",
      "Requirement already satisfied: chardet<4,>=3.0.2 in /usr/local/lib/python3.8/dist-packages (from requests->flask_ngrok) (3.0.4)\n",
      "Installing collected packages: flask-ngrok\n",
      "Successfully installed flask-ngrok-0.0.25\n"
     ]
    }
   ],
   "source": [
    "!pip install flask_ngrok"
   ]
  },
  {
   "cell_type": "markdown",
   "metadata": {
    "id": "SFBrvbkTiChu"
   },
   "source": [
    "**deployement avec flask**"
   ]
  },
  {
   "cell_type": "code",
   "execution_count": null,
   "metadata": {
    "id": "LMMn4EQDW3Ct"
   },
   "outputs": [],
   "source": [
    "from flask_ngrok import run_with_ngrok\n",
    "import numpy as np\n",
    "from flask import Flask, request, render_template\n",
    "from keras.models import load_model\n",
    "\n",
    "from pyspark.ml import Pipeline\n",
    "\n",
    "# Create flask app\n",
    "flask_app = Flask(__name__)\n",
    "#run_with_ngrok(flask_app)\n",
    "lassifierDLModel = ClassifierDLModel.load('MultilabelClfBert')\n",
    "# Generate prediction Pipeline with loaded Model \n",
    "ld_pipeline = Pipeline(stages=[document, bert_cmlm, ClassifierDLModel])\n",
    "ld_pipeline_model = ld_pipeline.fit(spark.createDataFrame([['']]).toDF(\"text\"))\n",
    "\n",
    "\n",
    "@flask_app.route(\"/\")\n",
    "def Home():\n",
    "    return render_template(\"index.html\")\n",
    "\n",
    "@flask_app.route(\"/predict\", methods = [\"POST\"])\n",
    "def predict():\n",
    "    float_features = [float(x) for x in request.form.values()]\n",
    "    features = [np.array(float_features)]\n",
    "    prediction = ld_pipeline_model.transform(features)\n",
    "    #prediction = ClassifierDLModel.predict(features)\n",
    "    return render_template(\"index.html\", prediction_text = \"The article categorie is {}\".format(prediction))\n",
    "\n",
    "if __name__ == \"__main__\":\n",
    "    flask_app.run()\n"
   ]
  }
 ],
 "metadata": {
  "accelerator": "GPU",
  "colab": {
   "provenance": []
  },
  "gpuClass": "standard",
  "kernelspec": {
   "display_name": "Python 3 (ipykernel)",
   "language": "python",
   "name": "python3"
  },
  "language_info": {
   "codemirror_mode": {
    "name": "ipython",
    "version": 3
   },
   "file_extension": ".py",
   "mimetype": "text/x-python",
   "name": "python",
   "nbconvert_exporter": "python",
   "pygments_lexer": "ipython3",
   "version": "3.10.4"
  }
 },
 "nbformat": 4,
 "nbformat_minor": 1
}
